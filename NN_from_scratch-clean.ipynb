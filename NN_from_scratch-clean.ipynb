{
 "cells": [
  {
   "cell_type": "markdown",
   "id": "c553e348",
   "metadata": {},
   "source": [
    "## Importing libraries and data"
   ]
  },
  {
   "cell_type": "markdown",
   "id": "8c54ead6",
   "metadata": {},
   "source": [
    "This notebook utilizes the Telecom churn data on Kaggle to demonstrate how to build a Logistic Regression and Neural Network from scratch. To view the notebook with more data exploration and the implementation of Random Forest, XGBoost and TensorFlow, please refer to the following notebooks here ---> \n",
    "- https://www.kaggle.com/code/arsalanpardesi/churn-prediction-telecom-customers\n",
    "\n",
    "- https://www.kaggle.com/code/arsalanpardesi/churn-prediction-telecom-customers-incl-tf"
   ]
  },
  {
   "cell_type": "code",
   "execution_count": 1,
   "id": "b4a8b1c4",
   "metadata": {},
   "outputs": [],
   "source": [
    "#----main libraries----\n",
    "import numpy as np\n",
    "import pandas as pd\n",
    "import copy\n",
    "import scipy\n",
    "\n",
    "\n",
    "#----plotting libraries----\n",
    "import seaborn as sns\n",
    "import matplotlib.pyplot as plt"
   ]
  },
  {
   "cell_type": "code",
   "execution_count": 2,
   "id": "3e9bc319",
   "metadata": {},
   "outputs": [],
   "source": [
    "%matplotlib inline"
   ]
  },
  {
   "cell_type": "code",
   "execution_count": 3,
   "id": "71aba9f5",
   "metadata": {},
   "outputs": [
    {
     "data": {
      "text/plain": [
       "customerID           0\n",
       "gender               0\n",
       "SeniorCitizen        0\n",
       "Partner              0\n",
       "Dependents           0\n",
       "tenure               0\n",
       "PhoneService         0\n",
       "MultipleLines        0\n",
       "InternetService      0\n",
       "OnlineSecurity       0\n",
       "OnlineBackup         0\n",
       "DeviceProtection     0\n",
       "TechSupport          0\n",
       "StreamingTV          0\n",
       "StreamingMovies      0\n",
       "Contract             0\n",
       "PaperlessBilling     0\n",
       "PaymentMethod        0\n",
       "MonthlyCharges       0\n",
       "TotalCharges        11\n",
       "Churn                0\n",
       "dtype: int64"
      ]
     },
     "execution_count": 3,
     "metadata": {},
     "output_type": "execute_result"
    }
   ],
   "source": [
    "# Load data - we will load the data and perform the same cleaning steps as before\n",
    "\n",
    "tel_cus_df = pd.read_csv(\"./data/WA_Fn-UseC_-Telco-Customer-Churn.csv\")\n",
    "\n",
    "# Data cleansing and preparation - refer to the old notebook for explanation\n",
    "\n",
    "#Total charges is type object. Check for empty values and covert to a numeric data type\n",
    "tel_cus_df['TotalCharges'] = tel_cus_df['TotalCharges'].replace(' ', np.nan, regex=True)\n",
    "tel_cus_df['TotalCharges'] = pd.to_numeric(tel_cus_df['TotalCharges'])\n",
    "tel_cus_df.isnull().sum()"
   ]
  },
  {
   "cell_type": "code",
   "execution_count": 4,
   "id": "3f07776c",
   "metadata": {},
   "outputs": [
    {
     "data": {
      "text/html": [
       "<div>\n",
       "<style scoped>\n",
       "    .dataframe tbody tr th:only-of-type {\n",
       "        vertical-align: middle;\n",
       "    }\n",
       "\n",
       "    .dataframe tbody tr th {\n",
       "        vertical-align: top;\n",
       "    }\n",
       "\n",
       "    .dataframe thead th {\n",
       "        text-align: right;\n",
       "    }\n",
       "</style>\n",
       "<table border=\"1\" class=\"dataframe\">\n",
       "  <thead>\n",
       "    <tr style=\"text-align: right;\">\n",
       "      <th></th>\n",
       "      <th>Contract</th>\n",
       "      <th>ContractMonths</th>\n",
       "      <th>MonthlyCharges</th>\n",
       "      <th>TotalCharges</th>\n",
       "    </tr>\n",
       "  </thead>\n",
       "  <tbody>\n",
       "    <tr>\n",
       "      <th>488</th>\n",
       "      <td>Two year</td>\n",
       "      <td>24</td>\n",
       "      <td>52.55</td>\n",
       "      <td>NaN</td>\n",
       "    </tr>\n",
       "    <tr>\n",
       "      <th>753</th>\n",
       "      <td>Two year</td>\n",
       "      <td>24</td>\n",
       "      <td>20.25</td>\n",
       "      <td>NaN</td>\n",
       "    </tr>\n",
       "    <tr>\n",
       "      <th>936</th>\n",
       "      <td>Two year</td>\n",
       "      <td>24</td>\n",
       "      <td>80.85</td>\n",
       "      <td>NaN</td>\n",
       "    </tr>\n",
       "    <tr>\n",
       "      <th>1082</th>\n",
       "      <td>Two year</td>\n",
       "      <td>24</td>\n",
       "      <td>25.75</td>\n",
       "      <td>NaN</td>\n",
       "    </tr>\n",
       "    <tr>\n",
       "      <th>1340</th>\n",
       "      <td>Two year</td>\n",
       "      <td>24</td>\n",
       "      <td>56.05</td>\n",
       "      <td>NaN</td>\n",
       "    </tr>\n",
       "    <tr>\n",
       "      <th>3331</th>\n",
       "      <td>Two year</td>\n",
       "      <td>24</td>\n",
       "      <td>19.85</td>\n",
       "      <td>NaN</td>\n",
       "    </tr>\n",
       "    <tr>\n",
       "      <th>3826</th>\n",
       "      <td>Two year</td>\n",
       "      <td>24</td>\n",
       "      <td>25.35</td>\n",
       "      <td>NaN</td>\n",
       "    </tr>\n",
       "    <tr>\n",
       "      <th>4380</th>\n",
       "      <td>Two year</td>\n",
       "      <td>24</td>\n",
       "      <td>20.00</td>\n",
       "      <td>NaN</td>\n",
       "    </tr>\n",
       "    <tr>\n",
       "      <th>5218</th>\n",
       "      <td>One year</td>\n",
       "      <td>12</td>\n",
       "      <td>19.70</td>\n",
       "      <td>NaN</td>\n",
       "    </tr>\n",
       "    <tr>\n",
       "      <th>6670</th>\n",
       "      <td>Two year</td>\n",
       "      <td>24</td>\n",
       "      <td>73.35</td>\n",
       "      <td>NaN</td>\n",
       "    </tr>\n",
       "    <tr>\n",
       "      <th>6754</th>\n",
       "      <td>Two year</td>\n",
       "      <td>24</td>\n",
       "      <td>61.90</td>\n",
       "      <td>NaN</td>\n",
       "    </tr>\n",
       "  </tbody>\n",
       "</table>\n",
       "</div>"
      ],
      "text/plain": [
       "      Contract  ContractMonths  MonthlyCharges  TotalCharges\n",
       "488   Two year              24           52.55           NaN\n",
       "753   Two year              24           20.25           NaN\n",
       "936   Two year              24           80.85           NaN\n",
       "1082  Two year              24           25.75           NaN\n",
       "1340  Two year              24           56.05           NaN\n",
       "3331  Two year              24           19.85           NaN\n",
       "3826  Two year              24           25.35           NaN\n",
       "4380  Two year              24           20.00           NaN\n",
       "5218  One year              12           19.70           NaN\n",
       "6670  Two year              24           73.35           NaN\n",
       "6754  Two year              24           61.90           NaN"
      ]
     },
     "execution_count": 4,
     "metadata": {},
     "output_type": "execute_result"
    }
   ],
   "source": [
    "# create number of months for contract type to fill null totalcharges\n",
    "\n",
    "tel_cus_df['ContractMonths'] = np.where(tel_cus_df['Contract']==\"Month-to-month\", 1, 0) + np.where(tel_cus_df['Contract']==\"One year\", 12, 0) + np.where(tel_cus_df['Contract']==\"Two year\", 24, 0)\n",
    "tel_cus_df['ContractMonths'] = pd.to_numeric(tel_cus_df['ContractMonths'])\n",
    "tel_cus_df.loc[tel_cus_df['TotalCharges'].isnull(), ['Contract','ContractMonths','MonthlyCharges','TotalCharges']]"
   ]
  },
  {
   "cell_type": "code",
   "execution_count": 5,
   "id": "d0627592",
   "metadata": {},
   "outputs": [
    {
     "data": {
      "text/plain": [
       "customerID          0\n",
       "gender              0\n",
       "SeniorCitizen       0\n",
       "Partner             0\n",
       "Dependents          0\n",
       "tenure              0\n",
       "PhoneService        0\n",
       "MultipleLines       0\n",
       "InternetService     0\n",
       "OnlineSecurity      0\n",
       "OnlineBackup        0\n",
       "DeviceProtection    0\n",
       "TechSupport         0\n",
       "StreamingTV         0\n",
       "StreamingMovies     0\n",
       "Contract            0\n",
       "PaperlessBilling    0\n",
       "PaymentMethod       0\n",
       "MonthlyCharges      0\n",
       "TotalCharges        0\n",
       "Churn               0\n",
       "ContractMonths      0\n",
       "cal_TotalCharges    0\n",
       "dtype: int64"
      ]
     },
     "execution_count": 5,
     "metadata": {},
     "output_type": "execute_result"
    }
   ],
   "source": [
    "tel_cus_df['cal_TotalCharges'] = tel_cus_df['ContractMonths'] * tel_cus_df['MonthlyCharges']\n",
    "tel_cus_df['TotalCharges'] = np.where(tel_cus_df['TotalCharges'].isnull(), tel_cus_df['cal_TotalCharges'], tel_cus_df['TotalCharges'])\n",
    "tel_cus_df.isnull().sum()"
   ]
  },
  {
   "cell_type": "code",
   "execution_count": 6,
   "id": "2066debd",
   "metadata": {},
   "outputs": [
    {
     "data": {
      "text/html": [
       "<div>\n",
       "<style scoped>\n",
       "    .dataframe tbody tr th:only-of-type {\n",
       "        vertical-align: middle;\n",
       "    }\n",
       "\n",
       "    .dataframe tbody tr th {\n",
       "        vertical-align: top;\n",
       "    }\n",
       "\n",
       "    .dataframe thead th {\n",
       "        text-align: right;\n",
       "    }\n",
       "</style>\n",
       "<table border=\"1\" class=\"dataframe\">\n",
       "  <thead>\n",
       "    <tr style=\"text-align: right;\">\n",
       "      <th></th>\n",
       "      <th>customerID</th>\n",
       "      <th>gender</th>\n",
       "      <th>SeniorCitizen</th>\n",
       "      <th>Partner</th>\n",
       "      <th>Dependents</th>\n",
       "      <th>tenure</th>\n",
       "      <th>PhoneService</th>\n",
       "      <th>MultipleLines</th>\n",
       "      <th>InternetService</th>\n",
       "      <th>OnlineSecurity</th>\n",
       "      <th>...</th>\n",
       "      <th>StreamingTV</th>\n",
       "      <th>StreamingMovies</th>\n",
       "      <th>Contract</th>\n",
       "      <th>PaperlessBilling</th>\n",
       "      <th>PaymentMethod</th>\n",
       "      <th>MonthlyCharges</th>\n",
       "      <th>TotalCharges</th>\n",
       "      <th>Churn</th>\n",
       "      <th>ContractMonths</th>\n",
       "      <th>cal_TotalCharges</th>\n",
       "    </tr>\n",
       "  </thead>\n",
       "  <tbody>\n",
       "    <tr>\n",
       "      <th>0</th>\n",
       "      <td>7590-VHVEG</td>\n",
       "      <td>Female</td>\n",
       "      <td>0</td>\n",
       "      <td>Yes</td>\n",
       "      <td>No</td>\n",
       "      <td>1</td>\n",
       "      <td>No</td>\n",
       "      <td>No phone service</td>\n",
       "      <td>DSL</td>\n",
       "      <td>No</td>\n",
       "      <td>...</td>\n",
       "      <td>No</td>\n",
       "      <td>No</td>\n",
       "      <td>Month-to-month</td>\n",
       "      <td>Yes</td>\n",
       "      <td>Electronic check</td>\n",
       "      <td>29.85</td>\n",
       "      <td>29.85</td>\n",
       "      <td>No</td>\n",
       "      <td>1</td>\n",
       "      <td>29.85</td>\n",
       "    </tr>\n",
       "    <tr>\n",
       "      <th>1</th>\n",
       "      <td>5575-GNVDE</td>\n",
       "      <td>Male</td>\n",
       "      <td>0</td>\n",
       "      <td>No</td>\n",
       "      <td>No</td>\n",
       "      <td>34</td>\n",
       "      <td>Yes</td>\n",
       "      <td>No</td>\n",
       "      <td>DSL</td>\n",
       "      <td>Yes</td>\n",
       "      <td>...</td>\n",
       "      <td>No</td>\n",
       "      <td>No</td>\n",
       "      <td>One year</td>\n",
       "      <td>No</td>\n",
       "      <td>Mailed check</td>\n",
       "      <td>56.95</td>\n",
       "      <td>1889.50</td>\n",
       "      <td>No</td>\n",
       "      <td>12</td>\n",
       "      <td>683.40</td>\n",
       "    </tr>\n",
       "    <tr>\n",
       "      <th>2</th>\n",
       "      <td>3668-QPYBK</td>\n",
       "      <td>Male</td>\n",
       "      <td>0</td>\n",
       "      <td>No</td>\n",
       "      <td>No</td>\n",
       "      <td>2</td>\n",
       "      <td>Yes</td>\n",
       "      <td>No</td>\n",
       "      <td>DSL</td>\n",
       "      <td>Yes</td>\n",
       "      <td>...</td>\n",
       "      <td>No</td>\n",
       "      <td>No</td>\n",
       "      <td>Month-to-month</td>\n",
       "      <td>Yes</td>\n",
       "      <td>Mailed check</td>\n",
       "      <td>53.85</td>\n",
       "      <td>108.15</td>\n",
       "      <td>Yes</td>\n",
       "      <td>1</td>\n",
       "      <td>53.85</td>\n",
       "    </tr>\n",
       "    <tr>\n",
       "      <th>3</th>\n",
       "      <td>7795-CFOCW</td>\n",
       "      <td>Male</td>\n",
       "      <td>0</td>\n",
       "      <td>No</td>\n",
       "      <td>No</td>\n",
       "      <td>45</td>\n",
       "      <td>No</td>\n",
       "      <td>No phone service</td>\n",
       "      <td>DSL</td>\n",
       "      <td>Yes</td>\n",
       "      <td>...</td>\n",
       "      <td>No</td>\n",
       "      <td>No</td>\n",
       "      <td>One year</td>\n",
       "      <td>No</td>\n",
       "      <td>Bank transfer (automatic)</td>\n",
       "      <td>42.30</td>\n",
       "      <td>1840.75</td>\n",
       "      <td>No</td>\n",
       "      <td>12</td>\n",
       "      <td>507.60</td>\n",
       "    </tr>\n",
       "    <tr>\n",
       "      <th>4</th>\n",
       "      <td>9237-HQITU</td>\n",
       "      <td>Female</td>\n",
       "      <td>0</td>\n",
       "      <td>No</td>\n",
       "      <td>No</td>\n",
       "      <td>2</td>\n",
       "      <td>Yes</td>\n",
       "      <td>No</td>\n",
       "      <td>Fiber optic</td>\n",
       "      <td>No</td>\n",
       "      <td>...</td>\n",
       "      <td>No</td>\n",
       "      <td>No</td>\n",
       "      <td>Month-to-month</td>\n",
       "      <td>Yes</td>\n",
       "      <td>Electronic check</td>\n",
       "      <td>70.70</td>\n",
       "      <td>151.65</td>\n",
       "      <td>Yes</td>\n",
       "      <td>1</td>\n",
       "      <td>70.70</td>\n",
       "    </tr>\n",
       "  </tbody>\n",
       "</table>\n",
       "<p>5 rows × 23 columns</p>\n",
       "</div>"
      ],
      "text/plain": [
       "   customerID  gender  SeniorCitizen Partner Dependents  tenure PhoneService  \\\n",
       "0  7590-VHVEG  Female              0     Yes         No       1           No   \n",
       "1  5575-GNVDE    Male              0      No         No      34          Yes   \n",
       "2  3668-QPYBK    Male              0      No         No       2          Yes   \n",
       "3  7795-CFOCW    Male              0      No         No      45           No   \n",
       "4  9237-HQITU  Female              0      No         No       2          Yes   \n",
       "\n",
       "      MultipleLines InternetService OnlineSecurity  ... StreamingTV  \\\n",
       "0  No phone service             DSL             No  ...          No   \n",
       "1                No             DSL            Yes  ...          No   \n",
       "2                No             DSL            Yes  ...          No   \n",
       "3  No phone service             DSL            Yes  ...          No   \n",
       "4                No     Fiber optic             No  ...          No   \n",
       "\n",
       "  StreamingMovies        Contract PaperlessBilling              PaymentMethod  \\\n",
       "0              No  Month-to-month              Yes           Electronic check   \n",
       "1              No        One year               No               Mailed check   \n",
       "2              No  Month-to-month              Yes               Mailed check   \n",
       "3              No        One year               No  Bank transfer (automatic)   \n",
       "4              No  Month-to-month              Yes           Electronic check   \n",
       "\n",
       "  MonthlyCharges TotalCharges Churn  ContractMonths  cal_TotalCharges  \n",
       "0          29.85        29.85    No               1             29.85  \n",
       "1          56.95      1889.50    No              12            683.40  \n",
       "2          53.85       108.15   Yes               1             53.85  \n",
       "3          42.30      1840.75    No              12            507.60  \n",
       "4          70.70       151.65   Yes               1             70.70  \n",
       "\n",
       "[5 rows x 23 columns]"
      ]
     },
     "execution_count": 6,
     "metadata": {},
     "output_type": "execute_result"
    }
   ],
   "source": [
    "tel_cus_df.head()"
   ]
  },
  {
   "cell_type": "code",
   "execution_count": 7,
   "id": "1ed73d38",
   "metadata": {},
   "outputs": [
    {
     "data": {
      "text/plain": [
       "array(['gender', 'SeniorCitizen', 'Partner', 'Dependents', 'tenure',\n",
       "       'PhoneService', 'MultipleLines', 'InternetService',\n",
       "       'OnlineSecurity', 'OnlineBackup', 'DeviceProtection',\n",
       "       'TechSupport', 'StreamingTV', 'StreamingMovies', 'Contract',\n",
       "       'PaperlessBilling', 'PaymentMethod', 'MonthlyCharges',\n",
       "       'TotalCharges', 'Churn'], dtype=object)"
      ]
     },
     "execution_count": 7,
     "metadata": {},
     "output_type": "execute_result"
    }
   ],
   "source": [
    "# Drop CustomerID and other columns not required\n",
    "\n",
    "tel_cus_df.drop(['customerID','ContractMonths','cal_TotalCharges'], axis=1, inplace=True)\n",
    "tel_cus_df.columns.values"
   ]
  },
  {
   "cell_type": "markdown",
   "id": "b6639fba",
   "metadata": {},
   "source": [
    "# Logistic regression\n",
    "## Model configuration"
   ]
  },
  {
   "cell_type": "code",
   "execution_count": 8,
   "id": "559c483f",
   "metadata": {},
   "outputs": [],
   "source": [
    "# importing sklearn for processing data\n",
    "\n",
    "from sklearn.model_selection import train_test_split\n",
    "from sklearn.preprocessing import LabelEncoder\n",
    "from sklearn.preprocessing import MinMaxScaler"
   ]
  },
  {
   "cell_type": "code",
   "execution_count": 9,
   "id": "22d9831b",
   "metadata": {
    "scrolled": true
   },
   "outputs": [],
   "source": [
    "le = LabelEncoder()\n",
    "tel_cus_df['Churn'] = le.fit_transform(tel_cus_df['Churn'])"
   ]
  },
  {
   "cell_type": "code",
   "execution_count": 10,
   "id": "4fd7c890",
   "metadata": {},
   "outputs": [
    {
     "data": {
      "text/html": [
       "<div>\n",
       "<style scoped>\n",
       "    .dataframe tbody tr th:only-of-type {\n",
       "        vertical-align: middle;\n",
       "    }\n",
       "\n",
       "    .dataframe tbody tr th {\n",
       "        vertical-align: top;\n",
       "    }\n",
       "\n",
       "    .dataframe thead th {\n",
       "        text-align: right;\n",
       "    }\n",
       "</style>\n",
       "<table border=\"1\" class=\"dataframe\">\n",
       "  <thead>\n",
       "    <tr style=\"text-align: right;\">\n",
       "      <th></th>\n",
       "      <th>SeniorCitizen</th>\n",
       "      <th>tenure</th>\n",
       "      <th>MonthlyCharges</th>\n",
       "      <th>TotalCharges</th>\n",
       "      <th>Churn</th>\n",
       "      <th>gender_Female</th>\n",
       "      <th>gender_Male</th>\n",
       "      <th>Partner_No</th>\n",
       "      <th>Partner_Yes</th>\n",
       "      <th>Dependents_No</th>\n",
       "      <th>...</th>\n",
       "      <th>StreamingMovies_Yes</th>\n",
       "      <th>Contract_Month-to-month</th>\n",
       "      <th>Contract_One year</th>\n",
       "      <th>Contract_Two year</th>\n",
       "      <th>PaperlessBilling_No</th>\n",
       "      <th>PaperlessBilling_Yes</th>\n",
       "      <th>PaymentMethod_Bank transfer (automatic)</th>\n",
       "      <th>PaymentMethod_Credit card (automatic)</th>\n",
       "      <th>PaymentMethod_Electronic check</th>\n",
       "      <th>PaymentMethod_Mailed check</th>\n",
       "    </tr>\n",
       "  </thead>\n",
       "  <tbody>\n",
       "    <tr>\n",
       "      <th>0</th>\n",
       "      <td>0</td>\n",
       "      <td>1</td>\n",
       "      <td>29.85</td>\n",
       "      <td>29.85</td>\n",
       "      <td>0</td>\n",
       "      <td>True</td>\n",
       "      <td>False</td>\n",
       "      <td>False</td>\n",
       "      <td>True</td>\n",
       "      <td>True</td>\n",
       "      <td>...</td>\n",
       "      <td>False</td>\n",
       "      <td>True</td>\n",
       "      <td>False</td>\n",
       "      <td>False</td>\n",
       "      <td>False</td>\n",
       "      <td>True</td>\n",
       "      <td>False</td>\n",
       "      <td>False</td>\n",
       "      <td>True</td>\n",
       "      <td>False</td>\n",
       "    </tr>\n",
       "    <tr>\n",
       "      <th>1</th>\n",
       "      <td>0</td>\n",
       "      <td>34</td>\n",
       "      <td>56.95</td>\n",
       "      <td>1889.50</td>\n",
       "      <td>0</td>\n",
       "      <td>False</td>\n",
       "      <td>True</td>\n",
       "      <td>True</td>\n",
       "      <td>False</td>\n",
       "      <td>True</td>\n",
       "      <td>...</td>\n",
       "      <td>False</td>\n",
       "      <td>False</td>\n",
       "      <td>True</td>\n",
       "      <td>False</td>\n",
       "      <td>True</td>\n",
       "      <td>False</td>\n",
       "      <td>False</td>\n",
       "      <td>False</td>\n",
       "      <td>False</td>\n",
       "      <td>True</td>\n",
       "    </tr>\n",
       "    <tr>\n",
       "      <th>2</th>\n",
       "      <td>0</td>\n",
       "      <td>2</td>\n",
       "      <td>53.85</td>\n",
       "      <td>108.15</td>\n",
       "      <td>1</td>\n",
       "      <td>False</td>\n",
       "      <td>True</td>\n",
       "      <td>True</td>\n",
       "      <td>False</td>\n",
       "      <td>True</td>\n",
       "      <td>...</td>\n",
       "      <td>False</td>\n",
       "      <td>True</td>\n",
       "      <td>False</td>\n",
       "      <td>False</td>\n",
       "      <td>False</td>\n",
       "      <td>True</td>\n",
       "      <td>False</td>\n",
       "      <td>False</td>\n",
       "      <td>False</td>\n",
       "      <td>True</td>\n",
       "    </tr>\n",
       "    <tr>\n",
       "      <th>3</th>\n",
       "      <td>0</td>\n",
       "      <td>45</td>\n",
       "      <td>42.30</td>\n",
       "      <td>1840.75</td>\n",
       "      <td>0</td>\n",
       "      <td>False</td>\n",
       "      <td>True</td>\n",
       "      <td>True</td>\n",
       "      <td>False</td>\n",
       "      <td>True</td>\n",
       "      <td>...</td>\n",
       "      <td>False</td>\n",
       "      <td>False</td>\n",
       "      <td>True</td>\n",
       "      <td>False</td>\n",
       "      <td>True</td>\n",
       "      <td>False</td>\n",
       "      <td>True</td>\n",
       "      <td>False</td>\n",
       "      <td>False</td>\n",
       "      <td>False</td>\n",
       "    </tr>\n",
       "    <tr>\n",
       "      <th>4</th>\n",
       "      <td>0</td>\n",
       "      <td>2</td>\n",
       "      <td>70.70</td>\n",
       "      <td>151.65</td>\n",
       "      <td>1</td>\n",
       "      <td>True</td>\n",
       "      <td>False</td>\n",
       "      <td>True</td>\n",
       "      <td>False</td>\n",
       "      <td>True</td>\n",
       "      <td>...</td>\n",
       "      <td>False</td>\n",
       "      <td>True</td>\n",
       "      <td>False</td>\n",
       "      <td>False</td>\n",
       "      <td>False</td>\n",
       "      <td>True</td>\n",
       "      <td>False</td>\n",
       "      <td>False</td>\n",
       "      <td>True</td>\n",
       "      <td>False</td>\n",
       "    </tr>\n",
       "  </tbody>\n",
       "</table>\n",
       "<p>5 rows × 46 columns</p>\n",
       "</div>"
      ],
      "text/plain": [
       "   SeniorCitizen  tenure  MonthlyCharges  TotalCharges  Churn  gender_Female  \\\n",
       "0              0       1           29.85         29.85      0           True   \n",
       "1              0      34           56.95       1889.50      0          False   \n",
       "2              0       2           53.85        108.15      1          False   \n",
       "3              0      45           42.30       1840.75      0          False   \n",
       "4              0       2           70.70        151.65      1           True   \n",
       "\n",
       "   gender_Male  Partner_No  Partner_Yes  Dependents_No  ...  \\\n",
       "0        False       False         True           True  ...   \n",
       "1         True        True        False           True  ...   \n",
       "2         True        True        False           True  ...   \n",
       "3         True        True        False           True  ...   \n",
       "4        False        True        False           True  ...   \n",
       "\n",
       "   StreamingMovies_Yes  Contract_Month-to-month  Contract_One year  \\\n",
       "0                False                     True              False   \n",
       "1                False                    False               True   \n",
       "2                False                     True              False   \n",
       "3                False                    False               True   \n",
       "4                False                     True              False   \n",
       "\n",
       "   Contract_Two year  PaperlessBilling_No  PaperlessBilling_Yes  \\\n",
       "0              False                False                  True   \n",
       "1              False                 True                 False   \n",
       "2              False                False                  True   \n",
       "3              False                 True                 False   \n",
       "4              False                False                  True   \n",
       "\n",
       "   PaymentMethod_Bank transfer (automatic)  \\\n",
       "0                                    False   \n",
       "1                                    False   \n",
       "2                                    False   \n",
       "3                                     True   \n",
       "4                                    False   \n",
       "\n",
       "   PaymentMethod_Credit card (automatic)  PaymentMethod_Electronic check  \\\n",
       "0                                  False                            True   \n",
       "1                                  False                           False   \n",
       "2                                  False                           False   \n",
       "3                                  False                           False   \n",
       "4                                  False                            True   \n",
       "\n",
       "   PaymentMethod_Mailed check  \n",
       "0                       False  \n",
       "1                        True  \n",
       "2                        True  \n",
       "3                       False  \n",
       "4                       False  \n",
       "\n",
       "[5 rows x 46 columns]"
      ]
     },
     "execution_count": 10,
     "metadata": {},
     "output_type": "execute_result"
    }
   ],
   "source": [
    "# converting categorical items into dummy variables\n",
    "\n",
    "df_dummy = pd.get_dummies(tel_cus_df)\n",
    "df_dummy.head()"
   ]
  },
  {
   "cell_type": "code",
   "execution_count": 11,
   "id": "b5bb5e81",
   "metadata": {},
   "outputs": [],
   "source": [
    "X = df_dummy.drop(\"Churn\", axis = 1)\n",
    "y = df_dummy['Churn']"
   ]
  },
  {
   "cell_type": "code",
   "execution_count": 12,
   "id": "47d1a49f",
   "metadata": {},
   "outputs": [
    {
     "name": "stdout",
     "output_type": "stream",
     "text": [
      "Churn\n",
      "0    4149\n",
      "1    1485\n",
      "Name: count, dtype: int64\n"
     ]
    }
   ],
   "source": [
    "X_train, X_test, y_train, y_test = train_test_split(X, y, random_state = 100, test_size = 0.2)\n",
    "print(y_train.value_counts())"
   ]
  },
  {
   "cell_type": "code",
   "execution_count": 13,
   "id": "b8fab154",
   "metadata": {},
   "outputs": [],
   "source": [
    "# Using MinMaxScaler to regularize input\n",
    "\n",
    "scale = MinMaxScaler()\n",
    "col = X_train.columns\n",
    "\n",
    "X_train[col] = scale.fit_transform(X_train[col])\n",
    "X_test[col] = scale.transform(X_test[col])"
   ]
  },
  {
   "cell_type": "code",
   "execution_count": 14,
   "id": "aa995962",
   "metadata": {},
   "outputs": [
    {
     "name": "stdout",
     "output_type": "stream",
     "text": [
      "Number of training examples: m_train = 5634\n",
      "Number of test examples: m_test = 1409\n",
      "Number of features: num_x = 45\n",
      "X_train shape: (5634, 45)\n",
      "y_train shape: (5634,)\n",
      "X_test shape: (1409, 45)\n",
      "y_test shape: (1409,)\n"
     ]
    }
   ],
   "source": [
    "#lets check the shape of our training and test set\n",
    "\n",
    "m_train = X_train.shape[0]\n",
    "m_test = X_test.shape[0]\n",
    "num_x = X_train.shape[1]\n",
    "\n",
    "print (\"Number of training examples: m_train = \" + str(m_train))\n",
    "print (\"Number of test examples: m_test = \" + str(m_test))\n",
    "print (\"Number of features: num_x = \" + str(num_x))\n",
    "print (\"X_train shape: \" + str(X_train.shape))\n",
    "print (\"y_train shape: \" + str(y_train.shape))\n",
    "print (\"X_test shape: \" + str(X_test.shape))\n",
    "print (\"y_test shape: \" + str(y_test.shape))"
   ]
  },
  {
   "cell_type": "code",
   "execution_count": 15,
   "id": "700db44e",
   "metadata": {},
   "outputs": [
    {
     "name": "stdout",
     "output_type": "stream",
     "text": [
      "train_set_x shape: <class 'numpy.ndarray'> (45, 5634)\n",
      "train_set_y shape: <class 'numpy.ndarray'> (1, 5634)\n",
      "test_set_x shape: <class 'numpy.ndarray'> (45, 1409)\n",
      "test_set_y shape: <class 'numpy.ndarray'> (1, 1409)\n"
     ]
    }
   ],
   "source": [
    "#Change shapes to have X to (nx, m) and y to (1,m) and dataframes to numpy arrays\n",
    "\n",
    "train_set_x = X_train.to_numpy().T\n",
    "test_set_x = X_test.to_numpy().T\n",
    "train_set_y = y_train.values.reshape(y_train.shape[0], 1).T\n",
    "test_set_y = y_test.values.reshape(y_test.shape[0],1).T\n",
    "\n",
    "\n",
    "print (\"train_set_x shape: \" + str(type(train_set_x)) + \" \" + str(train_set_x.shape))\n",
    "print (\"train_set_y shape: \" + str(type(train_set_y)) + \" \" + str(train_set_y.shape))\n",
    "print (\"test_set_x shape: \" + str(type(test_set_x)) + \" \" + str(test_set_x.shape))\n",
    "print (\"test_set_y shape: \" + str(type(test_set_y)) + \" \" + str(test_set_y.shape))"
   ]
  },
  {
   "cell_type": "markdown",
   "id": "7331ae0f",
   "metadata": {},
   "source": [
    "**Mathematical expression of the algorithm**:\n",
    "\n",
    "For one example $x^{(i)}$:\n",
    "$$z^{(i)} = w^T x^{(i)} + b \\tag{1}$$\n",
    "$$\\hat{y}^{(i)} = a^{(i)} = sigmoid(z^{(i)})\\tag{2}$$ \n",
    "$$ \\mathcal{L}(a^{(i)}, y^{(i)}) =  - y^{(i)}  \\log(a^{(i)}) - (1-y^{(i)} )  \\log(1-a^{(i)})\\tag{3}$$\n",
    "\n",
    "The cost is then computed by summing over all training examples:\n",
    "$$ J = \\frac{1}{m} \\sum_{i=1}^m \\mathcal{L}(a^{(i)}, y^{(i)})\\tag{4}$$\n",
    "\n",
    "The sigmoid is calculated as follows:\n",
    "$$sigmoid(z) = \\frac{1}{1 + e^{-z}}\\tag{5}$$\n",
    "\n",
    "For backpropagation we will be using:\n",
    "\n",
    "$$ \\frac{\\partial J}{\\partial w} = \\frac{1}{m}X(A-Y)^T\\tag{6}$$\n",
    "$$ \\frac{\\partial J}{\\partial b} = \\frac{1}{m} \\sum_{i=1}^m (a^{(i)}-y^{(i)})\\tag{7}$$"
   ]
  },
  {
   "cell_type": "markdown",
   "id": "5b3e82fa",
   "metadata": {},
   "source": [
    "### Creating functions to support the logistic regression model"
   ]
  },
  {
   "cell_type": "code",
   "execution_count": 16,
   "id": "189a3f34",
   "metadata": {},
   "outputs": [],
   "source": [
    "# Defining a function to calculate sigmoid\n",
    "\n",
    "def sigmoid(z):\n",
    "    \n",
    "    s = 1. / (1+np.exp(-z))\n",
    "    \n",
    "    return s"
   ]
  },
  {
   "cell_type": "code",
   "execution_count": 17,
   "id": "e90ef354",
   "metadata": {},
   "outputs": [],
   "source": [
    "# Initializing parameters w and b\n",
    "\n",
    "def initialize_with_zeros(dim):\n",
    "    \n",
    "    w = np.zeros((dim,1))\n",
    "    b = 0.0\n",
    "    \n",
    "    return w, b"
   ]
  },
  {
   "cell_type": "code",
   "execution_count": 18,
   "id": "b7faddc3",
   "metadata": {},
   "outputs": [],
   "source": [
    "# Define forward propagation and backward propagation\n",
    "\n",
    "def propagate(w, b, X, Y):\n",
    "    \n",
    "    m = X.shape[1]\n",
    "    \n",
    "    #forward propagation\n",
    "    A = sigmoid(np.dot(w.T, X) + b)\n",
    "    cost = (-1./m) * np.sum((Y * np.log(A)) + ((1-Y)* (np.log(1-A))))\n",
    "    \n",
    "    #backward propagation\n",
    "    \n",
    "    dz = A - Y\n",
    "    dw = (1./m) * np.dot(X, dz.T)\n",
    "    db = (1./m) * np.sum(dz)\n",
    "    \n",
    "    cost = np.squeeze(np.array(cost))\n",
    "    \n",
    "    grads = {\"dw\": dw,\n",
    "             \"db\": db}\n",
    "    \n",
    "    return grads, cost   "
   ]
  },
  {
   "cell_type": "code",
   "execution_count": 19,
   "id": "d8398a8c",
   "metadata": {},
   "outputs": [],
   "source": [
    "# optimization function - Learn w and b by minimizing the cost function J\n",
    "\n",
    "def optimize(w, b, X, Y, num_iterations=100, learning_rate=0.009, print_cost=False):\n",
    "    \n",
    "    w = copy.deepcopy(w)\n",
    "    b = copy.deepcopy(b)\n",
    "    \n",
    "    costs = []\n",
    "    \n",
    "    for i in range(num_iterations):\n",
    "        \n",
    "        grads, cost = propagate(w, b, X, Y)\n",
    "        \n",
    "        dw = grads[\"dw\"]\n",
    "        db = grads[\"db\"]\n",
    "        \n",
    "        w = w - (learning_rate * dw)\n",
    "        b = b - (learning_rate * db)\n",
    "        \n",
    "        # print cost for every 100 iteration\n",
    "        if i % 100 == 0:\n",
    "            costs.append(cost)\n",
    "            if print_cost:\n",
    "                print(\"Cost after iteration %i: %f\" %(i, cost))\n",
    "    \n",
    "    params = {\"w\": w,\n",
    "              \"b\": b}\n",
    "    \n",
    "    grads = {\"dw\": dw,\n",
    "             \"db\": db}\n",
    "    \n",
    "    return params, grads, costs   \n",
    "    "
   ]
  },
  {
   "cell_type": "code",
   "execution_count": 20,
   "id": "ab03effb",
   "metadata": {},
   "outputs": [],
   "source": [
    "# predicting the values\n",
    "\n",
    "def predict(w, b, X):\n",
    "    \n",
    "    m = X.shape[1]\n",
    "    Y_prediction = np.zeros((1,m))\n",
    "    w = w.reshape(X.shape[0],1)\n",
    "     \n",
    "    A = sigmoid(np.dot(w.T, X) + b)\n",
    "    \n",
    "    for i in range(A.shape[1]):\n",
    "        \n",
    "        if A[0,i] > 0.5:\n",
    "            Y_prediction[0,i] = 1\n",
    "        else:\n",
    "            Y_prediction[0,i] = 0\n",
    "            \n",
    "    return Y_prediction"
   ]
  },
  {
   "cell_type": "code",
   "execution_count": 21,
   "id": "7f456992",
   "metadata": {},
   "outputs": [],
   "source": [
    "del X_train, X_test, y_train, y_test"
   ]
  },
  {
   "cell_type": "code",
   "execution_count": 22,
   "id": "4d285bcc",
   "metadata": {},
   "outputs": [],
   "source": [
    "# Defining the model\n",
    "\n",
    "def model(X_train, Y_train, X_test, Y_test, num_iterations=2000, learning_rate=0.005, print_cost=False):\n",
    "    \n",
    "    mX_train = X_train.shape[0]\n",
    "    w, b = initialize_with_zeros(mX_train)\n",
    "    \n",
    "    params, grads, costs = optimize(w, b, X_train, Y_train, num_iterations=num_iterations, learning_rate=learning_rate, print_cost=print_cost)\n",
    "    \n",
    "    w = params[\"w\"]\n",
    "    b = params[\"b\"]\n",
    "    \n",
    "    Y_prediction_test = predict(w, b, X_test)\n",
    "    Y_prediction_train = predict(w, b, X_train)\n",
    "    \n",
    "    #print costs\n",
    "    if print_cost:\n",
    "        print(\"training accuracy: {} %\".format(100 - np.mean(np.abs(Y_prediction_train - Y_train)) * 100))\n",
    "        print(\"test accuracy: {} %\".format(100 - np.mean(np.abs(Y_prediction_test - Y_test)) * 100))\n",
    "\n",
    "    accuracy = 100 - np.mean(np.abs(Y_prediction_test - Y_test)) * 100\n",
    "    true_pos = np.multiply(Y_prediction_test, Y_test) \n",
    "    recall = np.squeeze(np.sum(true_pos, axis = 1) / np.sum(Y_test, axis = 1) * 100)[()]\n",
    "    precision = np.squeeze(np.sum(true_pos, axis = 1) / np.sum(Y_prediction_test) *100)[()]\n",
    "    \n",
    "    results_dic = {\"costs\": costs,\n",
    "                   \"Y_prediction_test\": Y_prediction_test,\n",
    "                   \"Y_prediction_train\": Y_prediction_train,\n",
    "                   \"w\": w,\n",
    "                   \"b\": b,\n",
    "                   \"learning_rate\": learning_rate,\n",
    "                   \"num_iterations\": num_iterations,\n",
    "                   \"accuracy\": accuracy,\n",
    "                   \"recall\": recall,\n",
    "                   \"precision\": precision}\n",
    "    \n",
    "    return results_dic "
   ]
  },
  {
   "cell_type": "code",
   "execution_count": 23,
   "id": "c5046e15",
   "metadata": {},
   "outputs": [
    {
     "name": "stdout",
     "output_type": "stream",
     "text": [
      "Cost after iteration 0: 0.693147\n",
      "Cost after iteration 100: 0.576174\n",
      "Cost after iteration 200: 0.538158\n",
      "Cost after iteration 300: 0.516368\n",
      "Cost after iteration 400: 0.500736\n",
      "Cost after iteration 500: 0.488704\n",
      "Cost after iteration 600: 0.479173\n",
      "Cost after iteration 700: 0.471486\n",
      "Cost after iteration 800: 0.465195\n",
      "Cost after iteration 900: 0.459982\n",
      "Cost after iteration 1000: 0.455614\n",
      "Cost after iteration 1100: 0.451917\n",
      "Cost after iteration 1200: 0.448758\n",
      "Cost after iteration 1300: 0.446039\n",
      "Cost after iteration 1400: 0.443679\n",
      "Cost after iteration 1500: 0.441618\n",
      "Cost after iteration 1600: 0.439806\n",
      "Cost after iteration 1700: 0.438204\n",
      "Cost after iteration 1800: 0.436779\n",
      "Cost after iteration 1900: 0.435506\n",
      "training accuracy: 79.69471068512603 %\n",
      "test accuracy: 78.14052519517388 %\n"
     ]
    }
   ],
   "source": [
    "LR = model(train_set_x, train_set_y, test_set_x, test_set_y, num_iterations=2000, learning_rate=0.005, print_cost=True)"
   ]
  },
  {
   "cell_type": "code",
   "execution_count": 24,
   "id": "a06d3a8d",
   "metadata": {},
   "outputs": [
    {
     "data": {
      "text/plain": [
       "<function matplotlib.pyplot.show(close=None, block=None)>"
      ]
     },
     "execution_count": 24,
     "metadata": {},
     "output_type": "execute_result"
    },
    {
     "data": {
      "image/png": "[encoded data removed]",
      "text/plain": [
       "<Figure size 640x480 with 1 Axes>"
      ]
     },
     "metadata": {},
     "output_type": "display_data"
    }
   ],
   "source": [
    "costs = np.squeeze(LR['costs'])\n",
    "plt.plot(costs)\n",
    "plt.ylabel('cost')\n",
    "plt.xlabel('iterations (in 00s)')\n",
    "plt.title(\"Learning rate: \" + str(LR[\"learning_rate\"]))\n",
    "plt.text(5, 0.65, \"Accuracy: \" + str(np.around(LR[\"accuracy\"],2)) , fontsize = 10)\n",
    "plt.text(5, 0.625, \"Precision: \" + str(np.around(LR[\"precision\"],2)), fontsize = 10)\n",
    "plt.text(5, 0.60, \"Recall: \" + str(np.around(LR[\"recall\"],2)), fontsize = 10)\n",
    "plt.show"
   ]
  },
  {
   "cell_type": "markdown",
   "id": "b4622a8f",
   "metadata": {},
   "source": [
    "# Neural network\n",
    "\n",
    "## Model configuration"
   ]
  },
  {
   "cell_type": "code",
   "execution_count": 25,
   "id": "11b1b1ed",
   "metadata": {},
   "outputs": [
    {
     "name": "stdout",
     "output_type": "stream",
     "text": [
      "Defining NN\n"
     ]
    }
   ],
   "source": [
    "#setting up random seed to get the same answer while working\n",
    "\n",
    "np.random.seed(100)\n",
    "\n",
    "\"\"\"\n",
    "Similar to logistic regression, we will follow the steps below:\n",
    "1) Defining the sigmoid function and ReLU\n",
    "2) Initializing our parameters\n",
    "3) Defining Forward propagation\n",
    "4) Calculate cost\n",
    "5) Defining Backward propagation\n",
    "6) Defining Optimization function\n",
    "7) Bringing it all together and training the model\n",
    "\n",
    "\"\"\"\n",
    "print(\"Defining NN\")\n"
   ]
  },
  {
   "cell_type": "code",
   "execution_count": 26,
   "id": "7d2617d3",
   "metadata": {},
   "outputs": [],
   "source": [
    "# sigmoid function\n",
    "\n",
    "def sigmoid2(Z):\n",
    "    A = 1. / (1+np.exp(-Z))\n",
    "    cache = Z\n",
    "    \n",
    "    return A, cache"
   ]
  },
  {
   "cell_type": "code",
   "execution_count": 27,
   "id": "058b893b",
   "metadata": {},
   "outputs": [],
   "source": [
    "#ReLU function - it is essentially a linear function that returns Z, if positive, otherwise zero\n",
    "\n",
    "def relu(Z):\n",
    "    A = np.maximum(0, Z)\n",
    "    assert(A.shape == Z.shape)\n",
    "    cache = Z\n",
    "    \n",
    "    return A, cache"
   ]
  },
  {
   "cell_type": "code",
   "execution_count": 28,
   "id": "7a85833c",
   "metadata": {},
   "outputs": [],
   "source": [
    "#backward propagation for sigmoid\n",
    "\n",
    "def sigmoid2_backward(dA, cache):\n",
    "    Z = cache\n",
    "    \n",
    "    s = 1. / (1+np.exp(-Z))\n",
    "    dZ = dA * s * (1-s)\n",
    "    \n",
    "    assert (dZ.shape == Z.shape)\n",
    "    \n",
    "    return dZ"
   ]
  },
  {
   "cell_type": "code",
   "execution_count": 29,
   "id": "a6021d6f",
   "metadata": {},
   "outputs": [],
   "source": [
    "#backward propagation for ReLU\n",
    "\n",
    "def relu_backward(dA, cache):\n",
    "    Z = cache\n",
    "    \n",
    "    dZ = np.array(dA, copy=True)\n",
    "    \n",
    "    dZ[Z <= 0] = 0\n",
    "    \n",
    "    assert (dZ.shape == Z.shape)\n",
    "    \n",
    "    return dZ"
   ]
  },
  {
   "cell_type": "code",
   "execution_count": 45,
   "id": "b702a26d",
   "metadata": {},
   "outputs": [],
   "source": [
    "# Initialize parameters\n",
    "\n",
    "def initialize_parameters_deep(layers_dims):\n",
    "    \n",
    "    np.random.seed(100)\n",
    "    parameters = {}\n",
    "    L = len(layers_dims)\n",
    "    \n",
    "    for l in range(1, L):\n",
    "        parameters[\"W\" + str(l)] = np.random.randn(layers_dims[l], layers_dims[l-1]) * np.sqrt(2/layers_dims[l-1])\n",
    "        parameters[\"b\" + str(l)] = np.zeros((layers_dims[l],1))\n",
    "        \n",
    "        assert(parameters[\"W\" + str(l)].shape == (layers_dims[l], layers_dims[l-1]))\n",
    "        assert(parameters[\"b\" + str(l)].shape == (layers_dims[l], 1))\n",
    "    \n",
    "    return parameters"
   ]
  },
  {
   "cell_type": "code",
   "execution_count": 31,
   "id": "305423d6",
   "metadata": {},
   "outputs": [],
   "source": [
    "# linear forward propagation\n",
    "\n",
    "def linear_forward(A, W, b):\n",
    "    \n",
    "    Z = np.dot(W, A) + b\n",
    "    cache = (A, W, b)\n",
    "    \n",
    "    return Z, cache"
   ]
  },
  {
   "cell_type": "code",
   "execution_count": 32,
   "id": "d9046a76",
   "metadata": {},
   "outputs": [],
   "source": [
    "# linear forward activation\n",
    "\n",
    "def linear_activation_forward(A_prev, W, b, activation):\n",
    "    \n",
    "    if activation == \"sigmoid\":\n",
    "        Z, linear_cache = linear_forward(A_prev, W, b)\n",
    "        A, activation_cache = sigmoid2(Z)\n",
    "        \n",
    "    elif activation == \"relu\":\n",
    "        Z, linear_cache = linear_forward(A_prev, W, b)\n",
    "        A, activation_cache = relu(Z)\n",
    "    \n",
    "    cache = (linear_cache, activation_cache)\n",
    "    \n",
    "    return A, cache"
   ]
  },
  {
   "cell_type": "code",
   "execution_count": 33,
   "id": "92add69c",
   "metadata": {},
   "outputs": [],
   "source": [
    "# Applying forward propagation over L layers\n",
    "\n",
    "def L_model_forward(X, parameters):\n",
    "    \n",
    "    caches = []\n",
    "    A = X\n",
    "    L = len(parameters) // 2\n",
    "    \n",
    "    for l in range(1, L):\n",
    "        A_prev = A\n",
    "        \n",
    "        A, cache = linear_activation_forward(A_prev, parameters[\"W\" + str(l)], parameters[\"b\" + str(l)], activation = \"relu\")\n",
    "        caches.append(cache)\n",
    "    \n",
    "    AL, cache = linear_activation_forward(A, parameters[\"W\" + str(L)], parameters[\"b\" + str(L)], activation = \"sigmoid\")\n",
    "    caches.append(cache)\n",
    "    \n",
    "    return AL, caches        "
   ]
  },
  {
   "cell_type": "code",
   "execution_count": 34,
   "id": "affd8d50",
   "metadata": {},
   "outputs": [],
   "source": [
    "# defining cost - cross-entropy cost\n",
    "\n",
    "def compute_cost(AL, Y):\n",
    "    m = Y.shape[1]\n",
    "    \n",
    "    cost = (-1/ m) * np.sum((Y * np.log(AL)) + ((1-Y)*(np.log(1-AL))))\n",
    "    \n",
    "    cost = np.squeeze(cost)\n",
    "    \n",
    "    return cost"
   ]
  },
  {
   "cell_type": "code",
   "execution_count": 35,
   "id": "65d672ad",
   "metadata": {},
   "outputs": [],
   "source": [
    "# linear backward propagation\n",
    "\n",
    "def linear_backward(dZ, cache):\n",
    "    \n",
    "    A_prev, W, b = cache\n",
    "    m = A_prev.shape[1]\n",
    "    \n",
    "    dW = (1./m) * np.dot(dZ, A_prev.T)\n",
    "    db = (1./m) * np.sum(dZ, axis=1, keepdims = True)\n",
    "    dA_prev = np.dot(W.T, dZ)\n",
    "    \n",
    "    return dA_prev, dW, db"
   ]
  },
  {
   "cell_type": "code",
   "execution_count": 36,
   "id": "b25eb54d",
   "metadata": {},
   "outputs": [],
   "source": [
    "# linear backward activation\n",
    "\n",
    "def linear_activation_backward(dA, cache, activation):\n",
    "    \n",
    "    linear_cache, activation_cache = cache\n",
    "    \n",
    "    if activation == \"relu\":\n",
    "        \n",
    "        dZ = relu_backward(dA, activation_cache)\n",
    "        dA_prev, dW, db = linear_backward(dZ, linear_cache)\n",
    "    \n",
    "    elif activation == \"sigmoid\":\n",
    "        \n",
    "        dZ = sigmoid2_backward(dA, activation_cache)\n",
    "        dA_prev, dW, db = linear_backward(dZ, linear_cache)\n",
    "    \n",
    "    return dA_prev, dW, db"
   ]
  },
  {
   "cell_type": "code",
   "execution_count": 37,
   "id": "6ef78c6c",
   "metadata": {},
   "outputs": [],
   "source": [
    "# applying backward propagation over L layers\n",
    "\n",
    "def L_model_backward(AL, Y, caches):\n",
    "    \n",
    "    grads = {}\n",
    "    L = len(caches)\n",
    "    m = AL.shape[1]\n",
    "    Y = Y.reshape(AL.shape)\n",
    "    \n",
    "    #for L-th layer\n",
    "    \n",
    "    dAL = - (np.divide(Y, AL) - np.divide(1-Y, 1-AL))\n",
    "    current_cache = caches[L-1]\n",
    "    dA_prev_temp, dW_temp, db_temp = linear_activation_backward(dAL, current_cache, activation=\"sigmoid\")\n",
    "    grads[\"dA\" + str(L-1)] = dA_prev_temp\n",
    "    grads[\"dW\" + str(L)] = dW_temp\n",
    "    grads[\"db\" + str(L)] = db_temp\n",
    "    \n",
    "    #for all prior layers\n",
    "    \n",
    "    for l in reversed(range(L-1)):\n",
    "        current_cache = caches[l]\n",
    "        dA_prev_temp, dW_temp, db_temp = linear_activation_backward(grads[\"dA\" + str(l+1)], current_cache, activation=\"relu\")\n",
    "        grads[\"dA\" + str(l)] = dA_prev_temp\n",
    "        grads[\"dW\" + str(l+1)] = dW_temp\n",
    "        grads[\"db\" + str(l+1)] = db_temp\n",
    "        \n",
    "    return grads   \n",
    "    "
   ]
  },
  {
   "cell_type": "code",
   "execution_count": 38,
   "id": "5bcb24ec",
   "metadata": {},
   "outputs": [],
   "source": [
    "def update_parameters(params, grads, learning_rate):\n",
    "    \n",
    "    parameters = params.copy()\n",
    "    L = len(parameters) // 2\n",
    "    \n",
    "    for l in range(L):\n",
    "        parameters[\"W\" + str(l+1)] = parameters[\"W\" + str(l+1)] - (np.multiply(learning_rate, grads[\"dW\" + str(l+1)]))\n",
    "        parameters[\"b\" + str(l+1)] = parameters[\"b\" + str(l+1)] - (np.multiply(learning_rate, grads[\"db\" + str(l+1)]))\n",
    "    \n",
    "    return parameters"
   ]
  },
  {
   "cell_type": "code",
   "execution_count": 57,
   "id": "2e7a615c",
   "metadata": {},
   "outputs": [],
   "source": [
    "#setting layers for the NN\n",
    "\n",
    "layers_dims = [45, 16, 8, 4, 1]"
   ]
  },
  {
   "cell_type": "code",
   "execution_count": 59,
   "id": "b43f1093",
   "metadata": {},
   "outputs": [],
   "source": [
    "# defining the model\n",
    "\n",
    "def L_layer_model(X, Y, layers_dim, learning_rate = 0.0075, num_iterations = 3000, print_cost = False):\n",
    "    \n",
    "    np.random.seed(100)\n",
    "    costs = []\n",
    "    \n",
    "    parameters = initialize_parameters_deep(layers_dims)\n",
    "    \n",
    "    for i in range(0, num_iterations):\n",
    "        \n",
    "        AL, caches = L_model_forward(X, parameters)\n",
    "        \n",
    "        cost = compute_cost(AL, Y)\n",
    "        \n",
    "        grads = L_model_backward(AL, Y, caches)\n",
    "        \n",
    "        parameters = update_parameters(parameters, grads, learning_rate)\n",
    "        \n",
    "        if print_cost and i % 100 == 0 or i == num_iterations -1:\n",
    "            print(\"Cost after iteration {} : {}\".format(i, np.squeeze(cost)))\n",
    "        if i % 100 == 0 or i == num_iterations:\n",
    "            costs.append(cost)\n",
    "    \n",
    "    return parameters, costs, learning_rate"
   ]
  },
  {
   "cell_type": "code",
   "execution_count": 75,
   "id": "2c1798fa",
   "metadata": {},
   "outputs": [],
   "source": [
    "# predicting results\n",
    "\n",
    "def predict(X, y, parameters):\n",
    "    \n",
    "    m = X.shape[1]\n",
    "    n = len(parameters) //2 \n",
    "    p = np.zeros((1, m))\n",
    "    accuracy = []\n",
    "    recall = []\n",
    "    precision = []\n",
    "    \n",
    "    probas, caches = L_model_forward(X, parameters)\n",
    "    \n",
    "    for i in range(0, probas.shape[1]):\n",
    "        if probas[0,i] > 0.5:\n",
    "            p[0,i] = 1\n",
    "        else:\n",
    "            p[0,i] = 0\n",
    "    \n",
    "    accuracy = np.sum((p == y)/m)*100\n",
    "    true_pos = np.multiply(p, y) \n",
    "    recall = np.squeeze(np.sum(true_pos, axis = 1) / np.sum(y, axis = 1) * 100)\n",
    "    precision = np.squeeze(np.sum(true_pos, axis = 1) / np.sum(p) *100)\n",
    "    \n",
    "    print(\"Accuracy: \" + str(np.sum((p == y)/m)*100))\n",
    "    print(\"Precision: \" + str(precision))\n",
    "    print(\"Recall: \" + str(recall))\n",
    "    return p, accuracy, recall, precision"
   ]
  },
  {
   "cell_type": "code",
   "execution_count": 42,
   "id": "2a8dad2c",
   "metadata": {},
   "outputs": [
    {
     "name": "stdout",
     "output_type": "stream",
     "text": [
      "Before OverSampling, counts of label '1': 1485\n",
      "Before OverSampling, counts of label '0': 4149 \n",
      "\n",
      "After OverSampling, the shape of X_train_sm: (8298, 45)\n",
      "After OverSampling, the shape of y_train_sm: (8298,) \n",
      "\n",
      "After OverSampling, counts of label '1': 4149\n",
      "After OverSampling, counts of label '0': 4149\n"
     ]
    }
   ],
   "source": [
    "# using Smote to balance data\n",
    "\n",
    "from imblearn.over_sampling import SMOTE\n",
    "\n",
    "sm_train_set_x = train_set_x.T.copy()\n",
    "sm_train_set_y = train_set_y.T.copy()\n",
    "\n",
    "\n",
    "print(\"Before OverSampling, counts of label '1': {}\".format(np.sum(train_set_y == 1)))\n",
    "print(\"Before OverSampling, counts of label '0': {} \\n\".format(np.sum(train_set_y == 0)))\n",
    "  \n",
    "sm = SMOTE(random_state = 2)\n",
    "sm_train_set_x, sm_train_set_y = sm.fit_resample(sm_train_set_x, sm_train_set_y.ravel())\n",
    "  \n",
    "print('After OverSampling, the shape of X_train_sm: {}'.format(sm_train_set_x.shape))\n",
    "print('After OverSampling, the shape of y_train_sm: {} \\n'.format(sm_train_set_y.shape))\n",
    "  \n",
    "print(\"After OverSampling, counts of label '1': {}\".format(np.sum(sm_train_set_y == 1)))\n",
    "print(\"After OverSampling, counts of label '0': {}\".format(np.sum(sm_train_set_y == 0)))\n",
    "\n"
   ]
  },
  {
   "cell_type": "code",
   "execution_count": 43,
   "id": "c57fd688",
   "metadata": {},
   "outputs": [
    {
     "name": "stdout",
     "output_type": "stream",
     "text": [
      "sm_train_set_x shape: <class 'numpy.ndarray'> (45, 8298)\n",
      "sm_train_set_y shape: <class 'numpy.ndarray'> (1, 8298)\n",
      "test_set_x shape: <class 'numpy.ndarray'> (45, 1409)\n",
      "test_set_y shape: <class 'numpy.ndarray'> (1, 1409)\n"
     ]
    }
   ],
   "source": [
    "#correcting data shape\n",
    "sm_train_set_x = sm_train_set_x.T\n",
    "sm_train_set_y = sm_train_set_y.reshape(sm_train_set_y.shape[0], 1).T\n",
    "                            \n",
    "print (\"sm_train_set_x shape: \" + str(type(sm_train_set_x)) + \" \" + str(sm_train_set_x.shape))\n",
    "print (\"sm_train_set_y shape: \" + str(type(sm_train_set_y)) + \" \" + str(sm_train_set_y.shape))\n",
    "print (\"test_set_x shape: \" + str(type(test_set_x)) + \" \" + str(test_set_x.shape))\n",
    "print (\"test_set_y shape: \" + str(type(test_set_y)) + \" \" + str(test_set_y.shape))"
   ]
  },
  {
   "cell_type": "code",
   "execution_count": 63,
   "id": "2c8708aa",
   "metadata": {},
   "outputs": [
    {
     "name": "stdout",
     "output_type": "stream",
     "text": [
      "Cost after iteration 0 : 0.8572924818863291\n",
      "Cost after iteration 100 : 0.47659100157570944\n",
      "Cost after iteration 200 : 0.46609928353897256\n",
      "Cost after iteration 300 : 0.4557107007692631\n",
      "Cost after iteration 400 : 0.44987292179345945\n",
      "Cost after iteration 500 : 0.44537055880293525\n",
      "Cost after iteration 600 : 0.43835540121111033\n",
      "Cost after iteration 700 : 0.4326959244164279\n",
      "Cost after iteration 800 : 0.4338103808173082\n",
      "Cost after iteration 900 : 0.42459768784053226\n",
      "Cost after iteration 1000 : 0.4176331166282963\n",
      "Cost after iteration 1100 : 0.4202514168798555\n",
      "Cost after iteration 1200 : 0.4097172241175017\n",
      "Cost after iteration 1300 : 0.40989156950154865\n",
      "Cost after iteration 1400 : 0.4018158635670034\n",
      "Cost after iteration 1500 : 0.3983160806523625\n",
      "Cost after iteration 1600 : 0.39724161715279527\n",
      "Cost after iteration 1700 : 0.3969395515985822\n",
      "Cost after iteration 1800 : 0.38643397233568455\n",
      "Cost after iteration 1900 : 0.39242895999507477\n",
      "Cost after iteration 2000 : 0.3838637729547984\n",
      "Cost after iteration 2100 : 0.3855860120515013\n",
      "Cost after iteration 2200 : 0.38160263015760415\n",
      "Cost after iteration 2300 : 0.38400085573415066\n",
      "Cost after iteration 2400 : 0.37975935992092713\n",
      "Cost after iteration 2500 : 0.38112222342668806\n",
      "Cost after iteration 2600 : 0.3703163963590343\n",
      "Cost after iteration 2700 : 0.3730233967547954\n",
      "Cost after iteration 2800 : 0.3718907878223719\n",
      "Cost after iteration 2900 : 0.3684439621152349\n",
      "Cost after iteration 3000 : 0.3634103161797431\n",
      "Cost after iteration 3100 : 0.3683369828889806\n",
      "Cost after iteration 3200 : 0.361010973699081\n",
      "Cost after iteration 3300 : 0.36847923425013596\n",
      "Cost after iteration 3400 : 0.35697326877984636\n",
      "Cost after iteration 3500 : 0.3626213087793491\n",
      "Cost after iteration 3600 : 0.3574022316456651\n",
      "Cost after iteration 3700 : 0.36001614497753653\n",
      "Cost after iteration 3800 : 0.3639604823968065\n",
      "Cost after iteration 3900 : 0.3575649734979984\n",
      "Cost after iteration 4000 : 0.37053989344963106\n",
      "Cost after iteration 4100 : 0.3534590866033876\n",
      "Cost after iteration 4200 : 0.3615740406236957\n",
      "Cost after iteration 4300 : 0.34662628690870306\n",
      "Cost after iteration 4400 : 0.3583193044125404\n",
      "Cost after iteration 4500 : 0.35453190697760345\n",
      "Cost after iteration 4600 : 0.3541091728383913\n",
      "Cost after iteration 4700 : 0.3635171968719434\n",
      "Cost after iteration 4800 : 0.345996088688778\n",
      "Cost after iteration 4900 : 0.34127086325617784\n",
      "Cost after iteration 4999 : 0.350196665945362\n"
     ]
    }
   ],
   "source": [
    "# Training the model\n",
    "\n",
    "parameters, costs, learning_rate = L_layer_model(sm_train_set_x, sm_train_set_y, layers_dims, num_iterations = 5000, learning_rate = 0.5, print_cost = True)"
   ]
  },
  {
   "cell_type": "code",
   "execution_count": 76,
   "id": "1c38ac22",
   "metadata": {},
   "outputs": [
    {
     "name": "stdout",
     "output_type": "stream",
     "text": [
      "Accuracy: 81.64714235001773\n",
      "Precision: 60.95191840699369\n",
      "Recall: 84.51178451178451\n"
     ]
    }
   ],
   "source": [
    "pred_train = predict(train_set_x, train_set_y, parameters)"
   ]
  },
  {
   "cell_type": "code",
   "execution_count": 77,
   "id": "bcb83a0b",
   "metadata": {},
   "outputs": [
    {
     "name": "stdout",
     "output_type": "stream",
     "text": [
      "Accuracy: 71.54009936124912\n",
      "Precision: 48.500881834215164\n",
      "Recall: 71.61458333333334\n"
     ]
    }
   ],
   "source": [
    "pred_test = predict(test_set_x, test_set_y, parameters)"
   ]
  },
  {
   "cell_type": "code",
   "execution_count": 81,
   "id": "0985c449",
   "metadata": {},
   "outputs": [
    {
     "data": {
      "text/plain": [
       "<function matplotlib.pyplot.show(close=None, block=None)>"
      ]
     },
     "execution_count": 81,
     "metadata": {},
     "output_type": "execute_result"
    },
    {
     "data": {
      "image/png": "[encoded data removed]",
      "text/plain": [
       "<Figure size 640x480 with 1 Axes>"
      ]
     },
     "metadata": {},
     "output_type": "display_data"
    }
   ],
   "source": [
    "costs = np.squeeze(costs)\n",
    "plt.plot(costs)\n",
    "plt.ylabel('cost')\n",
    "plt.xlabel('iterations (in 00s)')\n",
    "plt.title(\"Learning rate: \" + str(learning_rate))\n",
    "plt.text(20, 0.7, \"Accuracy: \" + str(np.around(pred_test[1],2)) , fontsize = 10)\n",
    "plt.text(20, 0.65, \"Precision: \" + str(np.around(pred_test[3],2)), fontsize = 10)\n",
    "plt.text(20, 0.60, \"Recall: \" + str(np.around(pred_test[2],2)), fontsize = 10)\n",
    "plt.show"
   ]
  },
  {
   "cell_type": "markdown",
   "id": "8214f6c2",
   "metadata": {},
   "source": [
    "The performance of the simple NN is very close to the model implemented using tensorflow. However, given the gap between train and dev/test results. It seems that the model has high variance and is over-fitting the training set. Adding regularization and dropout to the model might make it better. It is a very small dataset so it will likely over-fit the training set."
   ]
  },
  {
   "cell_type": "code",
   "execution_count": 54,
   "id": "9f1e4d8a",
   "metadata": {},
   "outputs": [
    {
     "name": "stdout",
     "output_type": "stream",
     "text": [
      "Cost after iteration 0 : 0.8572924818863291\n",
      "Cost after iteration 100 : 0.47659100157570944\n",
      "Cost after iteration 200 : 0.46609928353897256\n",
      "Cost after iteration 300 : 0.4557107007692631\n",
      "Cost after iteration 400 : 0.44987292179345945\n",
      "Cost after iteration 500 : 0.44537055880293525\n",
      "Cost after iteration 600 : 0.43835540121111033\n",
      "Cost after iteration 700 : 0.4326959244164279\n",
      "Cost after iteration 800 : 0.4338103808173082\n",
      "Cost after iteration 900 : 0.42459768784053226\n",
      "Cost after iteration 1000 : 0.4176331166282963\n",
      "Cost after iteration 1100 : 0.4202514168798555\n",
      "Cost after iteration 1200 : 0.4097172241175017\n",
      "Cost after iteration 1300 : 0.40989156950154865\n",
      "Cost after iteration 1400 : 0.4018158635670034\n",
      "Cost after iteration 1500 : 0.3983160806523625\n",
      "Cost after iteration 1600 : 0.39724161715279527\n",
      "Cost after iteration 1700 : 0.3969395515985822\n",
      "Cost after iteration 1800 : 0.38643397233568455\n",
      "Cost after iteration 1900 : 0.39242895999507477\n",
      "Cost after iteration 2000 : 0.3838637729547984\n",
      "Cost after iteration 2100 : 0.3855860120515013\n",
      "Cost after iteration 2200 : 0.38160263015760415\n",
      "Cost after iteration 2300 : 0.38400085573415066\n",
      "Cost after iteration 2400 : 0.37975935992092713\n",
      "Cost after iteration 2500 : 0.38112222342668806\n",
      "Cost after iteration 2600 : 0.3703163963590343\n",
      "Cost after iteration 2700 : 0.3730233967547954\n",
      "Cost after iteration 2800 : 0.3718907878223719\n",
      "Cost after iteration 2900 : 0.3684439621152349\n",
      "Cost after iteration 3000 : 0.3634103161797431\n",
      "Cost after iteration 3100 : 0.3683369828889806\n",
      "Cost after iteration 3200 : 0.361010973699081\n",
      "Cost after iteration 3300 : 0.36847923425013596\n",
      "Cost after iteration 3400 : 0.35697326877984636\n",
      "Cost after iteration 3500 : 0.3626213087793491\n",
      "Cost after iteration 3600 : 0.3574022316456651\n",
      "Cost after iteration 3700 : 0.36001614497753653\n",
      "Cost after iteration 3800 : 0.3639604823968065\n",
      "Cost after iteration 3900 : 0.3575649734979984\n",
      "Cost after iteration 4000 : 0.37053989344963106\n",
      "Cost after iteration 4100 : 0.3534590866033876\n",
      "Cost after iteration 4200 : 0.3615740406236957\n",
      "Cost after iteration 4300 : 0.34662628690870306\n",
      "Cost after iteration 4400 : 0.3583193044125404\n",
      "Cost after iteration 4500 : 0.35453190697760345\n",
      "Cost after iteration 4600 : 0.3541091728383913\n",
      "Cost after iteration 4700 : 0.3635171968719434\n",
      "Cost after iteration 4800 : 0.345996088688778\n",
      "Cost after iteration 4900 : 0.34127086325617784\n",
      "Cost after iteration 4999 : 0.350196665945362\n"
     ]
    }
   ],
   "source": [
    "# lets see if increasing the layers makes the training set error/bias lower\n",
    "\n",
    "layers_dims_extra = [45, 32, 16, 8, 4, 1]\n",
    "\n",
    "parameters, costs = L_layer_model(sm_train_set_x, sm_train_set_y, layers_dims_extra, num_iterations = 5000, learning_rate = 0.5, print_cost = True)"
   ]
  },
  {
   "cell_type": "code",
   "execution_count": 55,
   "id": "c8060e63",
   "metadata": {},
   "outputs": [
    {
     "name": "stdout",
     "output_type": "stream",
     "text": [
      "Accuracy: 81.64714235001773\n",
      "Precision: 60.95191840699369\n",
      "Recall: 84.51178451178451\n"
     ]
    }
   ],
   "source": [
    "pred_train = predict(train_set_x, train_set_y, parameters)"
   ]
  },
  {
   "cell_type": "code",
   "execution_count": 56,
   "id": "13c08fff",
   "metadata": {},
   "outputs": [
    {
     "name": "stdout",
     "output_type": "stream",
     "text": [
      "Accuracy: 71.54009936124912\n",
      "Precision: 48.500881834215164\n",
      "Recall: 71.61458333333334\n"
     ]
    }
   ],
   "source": [
    "pred_test = predict(test_set_x, test_set_y, parameters)"
   ]
  },
  {
   "cell_type": "markdown",
   "id": "cc47d1b1",
   "metadata": {},
   "source": [
    "Making the network larger doesn't make much difference. It seems like the learning rate is also probably too high for later iterations so perhaps implementing learning decay may slighlty improve performance."
   ]
  }
 ],
 "metadata": {
  "kernelspec": {
   "display_name": "Python 3 (ipykernel)",
   "language": "python",
   "name": "python3"
  },
  "language_info": {
   "codemirror_mode": {
    "name": "ipython",
    "version": 3
   },
   "file_extension": ".py",
   "mimetype": "text/x-python",
   "name": "python",
   "nbconvert_exporter": "python",
   "pygments_lexer": "ipython3",
   "version": "3.10.11"
  }
 },
 "nbformat": 4,
 "nbformat_minor": 5
}
